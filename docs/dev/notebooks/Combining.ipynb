{
 "cells": [
  {
   "cell_type": "markdown",
   "metadata": {},
   "source": [
    "# Combinator\n",
    "\n",
    "Following the parameter extraction the filtered data is grouped in bins. These bins are stored in text files with the images that go together. \n",
    "\n",
    "This notebook is to develop functions to take these text files and combine the group of images indicated at each one."
   ]
  },
  {
   "cell_type": "code",
   "execution_count": 2,
   "metadata": {},
   "outputs": [],
   "source": [
    "import numpy as np\n",
    "from astropy.io import fits\n",
    "import pandas as pd\n",
    "import os\n",
    "from glob import glob"
   ]
  },
  {
   "cell_type": "code",
   "execution_count": 3,
   "metadata": {},
   "outputs": [],
   "source": [
    "# Testing files\n",
    "\n",
    "BINS = \"/home/joaopedro/gdrive/Projects/active/Wild_Duck_Pipeline/wd/test_data/test/science/reduced/NGC6067/batches\"\n",
    "IMAGES = \"/home/joaopedro/gdrive/Projects/active/Wild_Duck_Pipeline/wd/test_data/test/science/reduced/NGC6067\"\n",
    "TEST_BATCH1 = BINS + \"/batch1.txt\"\n",
    "\n",
    "with open(TEST_BATCH1) as test:\n",
    "    BATCH1 = [i.strip() for i in test]\n"
   ]
  },
  {
   "cell_type": "code",
   "execution_count": 4,
   "metadata": {},
   "outputs": [
    {
     "data": {
      "text/plain": [
       "['r_OI2019A-031_2019-05-26_0322.fits',\n",
       " 'r_OI2019A-031_2019-05-26_0310.fits',\n",
       " 'r_OI2019A-031_2019-05-26_0312.fits',\n",
       " 'batches',\n",
       " 'parameters.csv',\n",
       " 'r_OI2019A-031_2019-05-26_0311.fits',\n",
       " 'r_OI2019A-031_2019-05-26_0316.fits',\n",
       " 'r_OI2019A-031_2019-05-26_0315.fits',\n",
       " 'r_OI2019A-031_2019-05-26_0321.fits',\n",
       " 'r_OI2019A-031_2019-05-26_0317.fits',\n",
       " 'r_OI2019A-031_2019-05-26_0320.fits']"
      ]
     },
     "execution_count": 4,
     "metadata": {},
     "output_type": "execute_result"
    }
   ],
   "source": [
    "os.listdir(IMAGES)"
   ]
  },
  {
   "cell_type": "code",
   "execution_count": 37,
   "metadata": {},
   "outputs": [],
   "source": [
    "# Combine one batch\n",
    "\n",
    "def combine_batch(batch, update_name):\n",
    "    \"\"\"\n",
    "    From a text file containing FITS files names, combine all images and generate new reference header.\n",
    "    Give back the new matrix and header. Used from within the folder with the images\n",
    "    \n",
    "    Args:\n",
    "        batch -- List of strings with path to batch text file.\n",
    "        update_name -- String with the exit name.\n",
    "    \n",
    "    Return:\n",
    "        combination -- 2D numpy array containing combined image\n",
    "        ref_header -- Astropy header object with updated info.\n",
    "    \"\"\"\n",
    "    # Load images and headers\n",
    "    \n",
    "    images = [fits.getdata(file) for file in batch]\n",
    "    headers = [fits.getheader(file) for file in batch]\n",
    "    \n",
    "    #  New parameters\n",
    "    airmasses = np.array([float(header[\"AIRMASS\"]) for header in headers])\n",
    "    jds = np.array([float(header[\"JD\"]) for header in headers])\n",
    "    ncombine = len(images)\n",
    "    middle = int(ncombine/2)\n",
    "    date = headers[middle][\"DATE-OBS\"]\n",
    "    \n",
    "    # Generate reference header  \n",
    "    ref_header = headers[middle]\n",
    "    ref_header[\"JD\"] = jds.mean()\n",
    "    ref_header[\"AIRMASS\"] = airmasses.mean()\n",
    "    ref_header[\"NCOMBINE\"] = ncombine\n",
    "    ref_header[\"DATE-OBS\"] = date\n",
    "    for (i, file) in enumerate(batch, start=1):\n",
    "        ref_header[f\"IMCMB{i}\"] = file\n",
    "    ref_header[\"IMAGE\"] = update_name\n",
    "    \n",
    "    # Combine images\n",
    "    \n",
    "    cube = np.stack(images, axis=0)\n",
    "    \n",
    "    combination = np.median(cube, axis=0)\n",
    "    \n",
    "    return (combination, ref_header)\n",
    "\n",
    "\n",
    "# Combine all batches\n",
    "\n",
    "def combine_batches(images_folder, batches_folder=\"batches\", out_folder=\"combinated\"):\n",
    "    \"\"\"\n",
    "    From a text file containing FITS files names, combine all images and generate new reference header.\n",
    "    Give back the new matrix and header.\n",
    "    \n",
    "    New name definition takes old name (following the conventions) strip the number part and create a new\n",
    "    based on the combination order.\n",
    "    \n",
    "    OBS1: Expects that the batch folder is already created.\n",
    "    \n",
    "    Args:\n",
    "        images_folder -- String with path to the folder with the images.\n",
    "        batches_folder -- Strings with path to batch folder files relative to the images folder.\n",
    "        out_folder -- String with the exit folder name relative to .\n",
    "        \n",
    "    Return:\n",
    "        List of strings with path to created files.\n",
    "        \n",
    "    File transformations:\n",
    "        Write new FITS files for the combinations.\n",
    "    \"\"\"\n",
    "    cwd = os.getcwd()\n",
    "    os.chdir(images_folder)\n",
    "    \n",
    "    os.mkdir(out_folder)\n",
    "    \n",
    "    # Load Batches\n",
    "    batches = []\n",
    "    for batch in os.listdir(batches_folder):\n",
    "        with open(batches_folder + \"/\" + batch) as f:\n",
    "            batches.append([line.strip() for line in f])\n",
    "            \n",
    "    # Define new stem name\n",
    "    ref_file = batches[0][0].split(\"_\")\n",
    "    stem = f\"final_{ref_file[1]}_{ref_file[2]}\"\n",
    "    \n",
    "    # For each batch combine_batch them save results\n",
    "    for i, batch in enumerate(batches, start=1):\n",
    "        new_name = f\"{stem}_{i:04}\" \n",
    "        matrix, new_header = combine_batch(batch, new_name)\n",
    "        fits.writeto(f\"{out_folder}/{new_name}.fits\", matrix, header=new_header)\n",
    "    \n",
    "    new_fits = os.listdir(f\"{images_folder}/{out_folder}\")\n",
    "    new_fits.sort()\n",
    "    \n",
    "    os.chdir(cwd)\n",
    "    \n",
    "    return new_fits"
   ]
  },
  {
   "cell_type": "code",
   "execution_count": 38,
   "metadata": {},
   "outputs": [],
   "source": [
    "# Testing\n",
    "\n",
    "# os.chdir(IMAGES); im, head = combine_batch(BATCH1, \"test\")  #  OK!! (Need to be run whithin images folder)\n",
    "\n",
    "images = combine_batches(IMAGES)"
   ]
  },
  {
   "cell_type": "code",
   "execution_count": 39,
   "metadata": {},
   "outputs": [
    {
     "data": {
      "text/plain": [
       "['final_OI2019A-031_2019-05-26_0001.fits',\n",
       " 'final_OI2019A-031_2019-05-26_0002.fits',\n",
       " 'final_OI2019A-031_2019-05-26_0003.fits']"
      ]
     },
     "execution_count": 39,
     "metadata": {},
     "output_type": "execute_result"
    }
   ],
   "source": [
    "type(images)\n",
    "images"
   ]
  }
 ],
 "metadata": {
  "kernelspec": {
   "display_name": "Python 3",
   "language": "python",
   "name": "python3"
  },
  "language_info": {
   "codemirror_mode": {
    "name": "ipython",
    "version": 3
   },
   "file_extension": ".py",
   "mimetype": "text/x-python",
   "name": "python",
   "nbconvert_exporter": "python",
   "pygments_lexer": "ipython3",
   "version": "3.7.4"
  }
 },
 "nbformat": 4,
 "nbformat_minor": 2
}
