{
 "cells": [
  {
   "cell_type": "markdown",
   "metadata": {},
   "source": [
    "# Extracting parameters\n",
    "\n",
    "To be able to perform aided image inspection and to have the necessary parameters to perform fotometry, some information has to be taken out of each image in a dataset.\n",
    "\n",
    "These parameters include basic statistics, and image parameters like FWHM, sky $\\sigma$ and ellipsity of stars.\n",
    "\n",
    "**In:** All reduced raw images\n",
    "\n",
    "**Out:** CSV Table containing image parameters "
   ]
  },
  {
   "cell_type": "code",
   "execution_count": 2,
   "metadata": {},
   "outputs": [],
   "source": [
    "import numpy as np\n",
    "import os\n",
    "from astropy.io import fits\n",
    "import matplotlib.pyplot as plt\n",
    "import pandas as pd\n",
    "from glob import glob"
   ]
  },
  {
   "cell_type": "code",
   "execution_count": 3,
   "metadata": {},
   "outputs": [],
   "source": [
    "TEST_FOLDER = \"/home/joaopedro/gdrive/Projects/active/Wild_Duck_Pipeline/wd/test_data/test\"\n",
    "IMAGES = TEST_FOLDER + \"/science/reduced/NGC6067\"\n",
    "TEST_STARS = \"/home/joaopedro/gdrive/Projects/active/Wild_Duck_Pipeline/wd/test_stars\"\n",
    "TEST_STAR = np.loadtxt(TEST_STARS + \"/test_star.csv\", delimiter=\",\")\n",
    "TEST_MATRIX = fits.getdata(IMAGES + \"/r_OI2019A-031_2019-05-26_0310.fits\")\n",
    "TEST_IMAGE = IMAGES + \"/r_OI2019A-031_2019-05-26_0310.fits\""
   ]
  },
  {
   "cell_type": "markdown",
   "metadata": {},
   "source": [
    "## Functions\n",
    "\n",
    "- get_stats\n",
    "- get_patch\n",
    "- extract_sigma\n",
    "- extract_fwhm\n"
   ]
  },
  {
   "cell_type": "code",
   "execution_count": 4,
   "metadata": {},
   "outputs": [],
   "source": [
    "# Get stats\n",
    "\n",
    "def get_stats(img_matrix, take = [\"min\", \"max\", \"mean\", \"median\", \"std\"]):\n",
    "    \"\"\"\n",
    "    Given image matrice return basic stats of pixel count. Can do so for any array.\n",
    "    \n",
    "    Args:\n",
    "        img_matrix -- Numpy array containing the image.\n",
    "        take -- List containing statistics to take, default is all stats.\n",
    "    \n",
    "    Return:\n",
    "        img_stats -- List with statistics of image in the order of the take list.\n",
    "    \"\"\"\n",
    "    \n",
    "    stats = {\"min\": np.min,\n",
    "             \"max\": np.max , \n",
    "             \"mean\": np.mean, \n",
    "             \"median\": np.median, \n",
    "             \"std\": np.std}\n",
    "    \n",
    "    img_stats = {}\n",
    "    for stat in take:\n",
    "        img_stats[stat] = np.apply_along_axis(stats[stat],\n",
    "                                              0,  #  Axis\n",
    "                                              np.ravel(img_matrix)).item()\n",
    "        \n",
    "    return img_stats"
   ]
  },
  {
   "cell_type": "code",
   "execution_count": 5,
   "metadata": {},
   "outputs": [
    {
     "data": {
      "text/plain": [
       "{'min': -711.8310294303166,\n",
       " 'max': 40440.35402599983,\n",
       " 'mean': 52.285949334696376,\n",
       " 'median': 15.882537002850807,\n",
       " 'std': 623.9981742244101}"
      ]
     },
     "execution_count": 5,
     "metadata": {},
     "output_type": "execute_result"
    }
   ],
   "source": [
    "# Testing\n",
    "get_stats(TEST_MATRIX)  #  OK"
   ]
  },
  {
   "cell_type": "code",
   "execution_count": 6,
   "metadata": {},
   "outputs": [],
   "source": [
    "# Get patch\n",
    "\n",
    "def get_square(img_matrix, x0, y0, delta=8):\n",
    "    \"\"\"\n",
    "    Get a square matrix around element in position x0, y0 of size 2*delta\n",
    "    \n",
    "    Args:\n",
    "        img_matrix -- 2D numpy array of image.\n",
    "        x0, y0 -- Integers telling coordinates of desired pixel.\n",
    "        delta -- Integer telling quantity of elements to take on each side.\n",
    "        \n",
    "    Return:\n",
    "        Numpy 2D square array with values of elements within selection window.\n",
    "    \"\"\"\n",
    "    \n",
    "    xa, ya = x0-delta, y0-delta\n",
    "    xb, yb = x0+delta, y0+delta\n",
    "    \n",
    "    return img_matrix[ya:yb, xa:xb]"
   ]
  },
  {
   "cell_type": "code",
   "execution_count": 7,
   "metadata": {},
   "outputs": [
    {
     "data": {
      "text/plain": [
       "(16, 16)"
      ]
     },
     "execution_count": 7,
     "metadata": {},
     "output_type": "execute_result"
    }
   ],
   "source": [
    "# Testing\n",
    "\n",
    "tt = get_square(TEST_MATRIX, 400, 400)\n",
    "tt.shape  #  OK"
   ]
  },
  {
   "cell_type": "code",
   "execution_count": 8,
   "metadata": {},
   "outputs": [],
   "source": [
    "# Get sky\n",
    "\n",
    "def get_sky(img_matrix, xs, ys, delta = 8):\n",
    "    \"\"\"\n",
    "    Uses the get_square to extract patches pointed as xy pairs and calculate the sigma.\n",
    "    Meant to estimate sky sigma.\n",
    "    \n",
    "    Args:\n",
    "        img_matrix -- 2D numpy array of image.\n",
    "        xs -- List of x positions\n",
    "        ys -- List of y positions\n",
    "        delta -- Integer for window size\n",
    "    \n",
    "    Return:\n",
    "        Dict of Floats with median standard deviation of all squares\n",
    "        \n",
    "    \"\"\"\n",
    "    if len(xs) != len(ys):\n",
    "        print(\"Warning !!! : x and y length doesn't match!! Exiting function.\")\n",
    "        return None\n",
    "    \n",
    "    squares = []\n",
    "    for i,j in zip(xs, ys):\n",
    "        squares.append(get_square(img_matrix, i, j, delta))\n",
    "    \n",
    "    squares = np.array(squares)\n",
    "    stds = squares.std(axis = 0)\n",
    "    sky = np.median(squares, axis = 0)\n",
    "    \n",
    "    return {\"bkg_sky\": np.median(sky), \"sky_sigma\": np.median(stds)}"
   ]
  },
  {
   "cell_type": "code",
   "execution_count": 9,
   "metadata": {},
   "outputs": [
    {
     "name": "stdout",
     "output_type": "stream",
     "text": [
      "{'bkg_sky': 13.004361352150749, 'sky_sigma': 3.2774086765128647}\n",
      "Warning !!! : x and y length doesn't match!! Exiting function.\n"
     ]
    }
   ],
   "source": [
    "# Testing\n",
    "\n",
    "print(get_sky(TEST_MATRIX, [400, 300, 500], [400, 300, 500]))  #  OK ? Test to see if those were sane values.\n",
    "get_sky(TEST_MATRIX, [1 , 2], [2]) # OK"
   ]
  },
  {
   "cell_type": "code",
   "execution_count": 10,
   "metadata": {},
   "outputs": [],
   "source": [
    "#  FWHM\n",
    "from astropy.modeling.models import Moffat1D\n",
    "from astropy.modeling.fitting import LevMarLSQFitter\n",
    "\n",
    "from photutils import centroid_1dg\n",
    "\n",
    "def mfwhm(star_matrix, sky=0, delta=8, plot=False):\n",
    "    \"\"\"\n",
    "    Get star center and use it to calulate FWHM using a Moffat function fit.\n",
    "    \n",
    "    Args:\n",
    "        star_matrix -- 2D numpy array of image of a star.\n",
    "        sky -- Float giving sky background counts.\n",
    "        delta -- Integer for window size.  \n",
    "    \n",
    "    Return:\n",
    "        Float giving FWHM.\n",
    "    \"\"\"\n",
    "    star_2 = np.copy(star_matrix)\n",
    "    \n",
    "    if sky == 0:\n",
    "        sky = star_2.min()\n",
    "    \n",
    "    star_2 -= sky\n",
    "    \n",
    "    tx, ty = centroid_1dg(star_2)\n",
    "   \n",
    "    indices = np.ogrid[[slice(0, i) for i in star_2.shape]]\n",
    "    dist = np.sqrt((ty - indices[0])**2 + (tx - indices[1])**2)\n",
    "    \n",
    "    x = dist.ravel()\n",
    "    y = star_2.ravel()\n",
    "\n",
    "    model_init = Moffat1D(amplitude = star_2.max(), x_0 = 0)\n",
    "    fitter = LevMarLSQFitter()\n",
    "\n",
    "    model_fit = fitter(model_init, x, y)\n",
    "    \n",
    "    if plot:\n",
    "        xx = np.linspace(-1, delta*2, 100)\n",
    "        plt.plot(xx, model_fit(xx), c=\"k\")\n",
    "        plt.scatter(dist.ravel(), y, alpha = .5, s=10)\n",
    "        plt.show()\n",
    "        plt.imshow(star_2)\n",
    "        plt.show()\n",
    "        print(model_fit.fwhm)\n",
    "\n",
    "    return model_fit.fwhm\n",
    "\n",
    "def get_mfwhm(img_matrix, xs, ys, sky=0, delta = 8):\n",
    "    \"\"\"\n",
    "    Uses the get_square to extract patches with stars pointed using xy pairs. Then extract \n",
    "    mfwhm from each \n",
    "    \n",
    "    Args:\n",
    "        img_matrix -- 2D numpy array of image.\n",
    "        xs -- List of x positions\n",
    "        ys -- List of y positions\n",
    "        delta -- Integer for window size\n",
    "    \n",
    "    Return:\n",
    "        Float giving fwhm average of all points\n",
    "    \"\"\"\n",
    "    if len(xs) != len(ys):\n",
    "        print(\"Warning !!! : x and y length doesn't match!! Exiting function.\")\n",
    "        return None\n",
    "    \n",
    "    squares = []\n",
    "    for i,j in zip(xs, ys):\n",
    "        squares.append(get_square(img_matrix, i, j, delta))\n",
    "    \n",
    "    estimatives = []\n",
    "    for star in squares:\n",
    "        estimatives.append(mfwhm(star, sky, delta))\n",
    "    \n",
    "    return np.mean(estimatives)"
   ]
  },
  {
   "cell_type": "code",
   "execution_count": 11,
   "metadata": {},
   "outputs": [
    {
     "data": {
      "image/png": "[encoded data removed]",
      "text/plain": [
       "<Figure size 432x288 with 1 Axes>"
      ]
     },
     "metadata": {
      "needs_background": "light"
     },
     "output_type": "display_data"
    },
    {
     "data": {
      "image/png": "[encoded data removed]",
      "text/plain": [
       "<Figure size 432x288 with 1 Axes>"
      ]
     },
     "metadata": {
      "needs_background": "light"
     },
     "output_type": "display_data"
    },
    {
     "name": "stdout",
     "output_type": "stream",
     "text": [
      "6.177896082799437\n"
     ]
    },
    {
     "data": {
      "text/plain": [
       "5.387843875375779"
      ]
     },
     "execution_count": 11,
     "metadata": {},
     "output_type": "execute_result"
    }
   ],
   "source": [
    "# Testing\n",
    "ts = np.loadtxt(TEST_STARS + \"/test_star.csv\", delimiter=\",\")\n",
    "mfwhm(ts, plot=True)\n",
    "\n",
    "x = [525, 1753]\n",
    "y = [1721, 1317]\n",
    "\n",
    "get_mfwhm(TEST_MATRIX, x, y)\n"
   ]
  },
  {
   "cell_type": "markdown",
   "metadata": {},
   "source": [
    "## Main"
   ]
  },
  {
   "cell_type": "code",
   "execution_count": 1,
   "metadata": {},
   "outputs": [],
   "source": [
    "def get_image_parameters(image, ref_stars_x, ref_stars_y, ref_sky_x, ref_sky_y):\n",
    "    \"\"\"\n",
    "    Given an image, return the parameters for inspection (basic stats + background sky + sky sigma + mfwhm)\n",
    "    in a dictionary.\n",
    "    \n",
    "    Args:\n",
    "        image -- String with path to the image to analise.\n",
    "        ref_stars_x -- List of Ints with x coordinate to star center pixel.\n",
    "        ref_stars_y -- List of Ints with x coordinate to star center pixel.\n",
    "        ref_sky_x -- List of Ints with x coordinate to sky pixel.\n",
    "        ref_sky_y -- List of Ints with x coordinate to sky pixel.\n",
    "        \n",
    "    Return:\n",
    "        Dictionary containing image information, basic stats and basic parameters.\n",
    "    \"\"\"\n",
    "    \n",
    "    data = fits.getdata(image)\n",
    "    header = fits.getheader(image)\n",
    "    \n",
    "    info = {\"file\" : image.split(\"/\")[-1],\n",
    "            \"jd\": header[\"JD\"],\n",
    "            \"airmass\": header[\"AIRMASS\"]}\n",
    "    \n",
    "    info.update(get_stats(data))\n",
    "    info.update(get_sky(data, ref_sky_x, ref_sky_y))\n",
    "    info[\"FWHM\"] = get_mfwhm(data, ref_stars_x, ref_stars_y, sky=info[\"bkg_sky\"])\n",
    "    \n",
    "    return info\n",
    "\n",
    "def get_parameters_all(folder, ref_stars_x, ref_stars_y, ref_sky_x, ref_sky_y):\n",
    "    \"\"\"\n",
    "    Return and write a Data Frame with parameters extracted with get_image_parameters\n",
    "    for all images in a folder.\n",
    "    \n",
    "    Args:\n",
    "        folder -- String with path to folder\n",
    "        ref_stars_x -- List of Ints with x coordinate to star center pixel.\n",
    "        ref_stars_y -- List of Ints with x coordinate to star center pixel.\n",
    "        ref_sky_x -- List of Ints with x coordinate to sky pixel.\n",
    "        ref_sky_y -- List of Ints with x coordinate to sky pixel.\n",
    "\n",
    "    \n",
    "    Return:\n",
    "        Pandas Dataframe containing information on all fits files of the folder\n",
    "    \"\"\"\n",
    "    cur_dir = os.getcwd()\n",
    "    os.chdir(folder)\n",
    "    print(os.getcwd())\n",
    "    files = glob(\"*.fits\")\n",
    "    files.sort()\n",
    "    \n",
    "\n",
    "    dicts = []\n",
    "    for image in files:\n",
    "        dicts.append(get_image_parameters(image, ref_stars_x, ref_stars_y, ref_sky_x, ref_sky_y))\n",
    "    \n",
    "    df = pd.DataFrame(dicts)\n",
    "    os.chdir(cur_dir)\n",
    "    return df"
   ]
  },
  {
   "cell_type": "code",
   "execution_count": 19,
   "metadata": {},
   "outputs": [
    {
     "name": "stdout",
     "output_type": "stream",
     "text": [
      "/home/joaopedro/gdrive/Projects/active/Wild_Duck_Pipeline/wd/test_data/test/science/reduced/NGC6067/combinated\n"
     ]
    }
   ],
   "source": [
    "# Tests\n",
    "\n",
    "x = [525, 1753]\n",
    "y = [1721, 1317]\n",
    "\n",
    "sky_x = [133, 1273]\n",
    "sky_y = [1089, 557]\n",
    "\n",
    "#get_image_parameters(TEST_IMAGE, x, y, sky_x, sky_y)\n",
    "\n",
    "#get_image_parameters(TEST_IMAGE, sky_x, sky_y, sky_x, sky_y) #  Testing with sky\n",
    "\n",
    "d = get_parameters_all(IMAGES+\"/combinated\", x, y, sky_x, sky_y)"
   ]
  },
  {
   "cell_type": "code",
   "execution_count": 18,
   "metadata": {},
   "outputs": [],
   "source": [
    "d.to_csv(IMAGES+\"/combinated/par.csv\")"
   ]
  },
  {
   "cell_type": "code",
   "execution_count": 15,
   "metadata": {},
   "outputs": [
    {
     "name": "stdout",
     "output_type": "stream",
     "text": [
      "/home/joaopedro/Desktop/M11_testing\n"
     ]
    }
   ],
   "source": [
    "stx = [1877, 1937, 725]\n",
    "sty = [1897, 847, 1578]\n",
    "\n",
    "skx = [1981, 485, 571]\n",
    "sky = [1629, 209, 1837]\n",
    "\n",
    "folder = \"/home/joaopedro/Desktop/M11_testing/\"\n",
    "\n",
    "m11 = get_parameters_all(folder, stx, sty, skx, sky)"
   ]
  }
 ],
 "metadata": {
  "kernelspec": {
   "display_name": "Python 3",
   "language": "python",
   "name": "python3"
  },
  "language_info": {
   "codemirror_mode": {
    "name": "ipython",
    "version": 3
   },
   "file_extension": ".py",
   "mimetype": "text/x-python",
   "name": "python",
   "nbconvert_exporter": "python",
   "pygments_lexer": "ipython3",
   "version": "3.8.3"
  }
 },
 "nbformat": 4,
 "nbformat_minor": 4
}
